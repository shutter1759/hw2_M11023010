{
 "cells": [
  {
   "cell_type": "code",
   "execution_count": 19,
   "metadata": {},
   "outputs": [],
   "source": [
    "import numpy as np\n",
    "import pandas as pd\n",
    "import matplotlib.pyplot as plt\n",
    "import seaborn as sns\n",
    "from sklearn.preprocessing import MinMaxScaler\n",
    "from sklearn.tree import DecisionTreeRegressor  \n",
    "from sklearn.ensemble import RandomForestRegressor \n",
    "from sklearn import metrics\n",
    "from sklearn.model_selection import train_test_split\n",
    "from sklearn.metrics import mean_squared_error\n",
    "from sklearn.metrics import mean_absolute_error\n",
    "from sklearn.metrics import mean_absolute_percentage_error\n",
    "import math\n",
    "from sklearn.neighbors import KNeighborsRegressor\n",
    "from sklearn.model_selection import GridSearchCV\n",
    "from sklearn.linear_model import LinearRegression\n",
    "from sklearn.linear_model import LassoCV\n",
    "from matplotlib.font_manager import FontProperties"
   ]
  },
  {
   "cell_type": "code",
   "execution_count": 20,
   "metadata": {},
   "outputs": [],
   "source": [
    "#資料欄位刪減\n",
    "df = pd.read_csv('hour.csv',na_values = '?')\n",
    "#df=df.drop([\"ID\"],axis=1)\n",
    "df = df.drop(columns=['instant','dteday','casual','registered'])\n",
    "df\n",
    "df1=df['cnt']"
   ]
  },
  {
   "cell_type": "code",
   "execution_count": 21,
   "metadata": {},
   "outputs": [
    {
     "name": "stdout",
     "output_type": "stream",
     "text": [
      "       season   yr  mnth        hr  hoilday   weekday  workingday  weathersit  \\\n",
      "0         0.0  0.0   0.0  0.000000      0.0  1.000000         0.0    0.000000   \n",
      "1         0.0  0.0   0.0  0.043478      0.0  1.000000         0.0    0.000000   \n",
      "2         0.0  0.0   0.0  0.086957      0.0  1.000000         0.0    0.000000   \n",
      "3         0.0  0.0   0.0  0.130435      0.0  1.000000         0.0    0.000000   \n",
      "4         0.0  0.0   0.0  0.173913      0.0  1.000000         0.0    0.000000   \n",
      "...       ...  ...   ...       ...      ...       ...         ...         ...   \n",
      "17374     0.0  1.0   1.0  0.826087      0.0  0.166667         1.0    0.333333   \n",
      "17375     0.0  1.0   1.0  0.869565      0.0  0.166667         1.0    0.333333   \n",
      "17376     0.0  1.0   1.0  0.913043      0.0  0.166667         1.0    0.000000   \n",
      "17377     0.0  1.0   1.0  0.956522      0.0  0.166667         1.0    0.000000   \n",
      "17378     0.0  1.0   1.0  1.000000      0.0  0.166667         1.0    0.000000   \n",
      "\n",
      "           temp   atemp   hum  windspeed  \n",
      "0      0.224490  0.2879  0.81   0.000000  \n",
      "1      0.204082  0.2727  0.80   0.000000  \n",
      "2      0.204082  0.2727  0.80   0.000000  \n",
      "3      0.224490  0.2879  0.75   0.000000  \n",
      "4      0.224490  0.2879  0.75   0.000000  \n",
      "...         ...     ...   ...        ...  \n",
      "17374  0.244898  0.2576  0.60   0.193018  \n",
      "17375  0.244898  0.2576  0.60   0.193018  \n",
      "17376  0.244898  0.2576  0.60   0.193018  \n",
      "17377  0.244898  0.2727  0.56   0.157870  \n",
      "17378  0.244898  0.2727  0.65   0.157870  \n",
      "\n",
      "[17379 rows x 12 columns]\n"
     ]
    }
   ],
   "source": [
    "#MinMax處理\n",
    "scaler = MinMaxScaler()\n",
    "df = df.drop(columns=['cnt'])\n",
    "scaler.fit(df)\n",
    "scaled_features = scaler.transform(df)\n",
    "df_MinMax = pd.DataFrame(data=scaled_features, columns=['season','yr','mnth','hr','hoilday','weekday','workingday','weathersit',\n",
    "                                                        'temp','atemp','hum','windspeed'])\n",
    "                                                        \n",
    "print(df_MinMax)"
   ]
  },
  {
   "cell_type": "code",
   "execution_count": 22,
   "metadata": {},
   "outputs": [
    {
     "data": {
      "text/html": [
       "<div>\n",
       "<style scoped>\n",
       "    .dataframe tbody tr th:only-of-type {\n",
       "        vertical-align: middle;\n",
       "    }\n",
       "\n",
       "    .dataframe tbody tr th {\n",
       "        vertical-align: top;\n",
       "    }\n",
       "\n",
       "    .dataframe thead th {\n",
       "        text-align: right;\n",
       "    }\n",
       "</style>\n",
       "<table border=\"1\" class=\"dataframe\">\n",
       "  <thead>\n",
       "    <tr style=\"text-align: right;\">\n",
       "      <th></th>\n",
       "      <th>cnt</th>\n",
       "    </tr>\n",
       "    <tr>\n",
       "      <th>hr</th>\n",
       "      <th></th>\n",
       "    </tr>\n",
       "  </thead>\n",
       "  <tbody>\n",
       "    <tr>\n",
       "      <th>0</th>\n",
       "      <td>53.898072</td>\n",
       "    </tr>\n",
       "    <tr>\n",
       "      <th>1</th>\n",
       "      <td>33.375691</td>\n",
       "    </tr>\n",
       "    <tr>\n",
       "      <th>2</th>\n",
       "      <td>22.869930</td>\n",
       "    </tr>\n",
       "    <tr>\n",
       "      <th>3</th>\n",
       "      <td>11.727403</td>\n",
       "    </tr>\n",
       "    <tr>\n",
       "      <th>4</th>\n",
       "      <td>6.352941</td>\n",
       "    </tr>\n",
       "    <tr>\n",
       "      <th>5</th>\n",
       "      <td>19.889819</td>\n",
       "    </tr>\n",
       "    <tr>\n",
       "      <th>6</th>\n",
       "      <td>76.044138</td>\n",
       "    </tr>\n",
       "    <tr>\n",
       "      <th>7</th>\n",
       "      <td>212.064649</td>\n",
       "    </tr>\n",
       "    <tr>\n",
       "      <th>8</th>\n",
       "      <td>359.011004</td>\n",
       "    </tr>\n",
       "    <tr>\n",
       "      <th>9</th>\n",
       "      <td>219.309491</td>\n",
       "    </tr>\n",
       "    <tr>\n",
       "      <th>10</th>\n",
       "      <td>173.668501</td>\n",
       "    </tr>\n",
       "    <tr>\n",
       "      <th>11</th>\n",
       "      <td>208.143054</td>\n",
       "    </tr>\n",
       "    <tr>\n",
       "      <th>12</th>\n",
       "      <td>253.315934</td>\n",
       "    </tr>\n",
       "    <tr>\n",
       "      <th>13</th>\n",
       "      <td>253.661180</td>\n",
       "    </tr>\n",
       "    <tr>\n",
       "      <th>14</th>\n",
       "      <td>240.949246</td>\n",
       "    </tr>\n",
       "    <tr>\n",
       "      <th>15</th>\n",
       "      <td>251.233196</td>\n",
       "    </tr>\n",
       "    <tr>\n",
       "      <th>16</th>\n",
       "      <td>311.983562</td>\n",
       "    </tr>\n",
       "    <tr>\n",
       "      <th>17</th>\n",
       "      <td>461.452055</td>\n",
       "    </tr>\n",
       "    <tr>\n",
       "      <th>18</th>\n",
       "      <td>425.510989</td>\n",
       "    </tr>\n",
       "    <tr>\n",
       "      <th>19</th>\n",
       "      <td>311.523352</td>\n",
       "    </tr>\n",
       "    <tr>\n",
       "      <th>20</th>\n",
       "      <td>226.030220</td>\n",
       "    </tr>\n",
       "    <tr>\n",
       "      <th>21</th>\n",
       "      <td>172.314560</td>\n",
       "    </tr>\n",
       "    <tr>\n",
       "      <th>22</th>\n",
       "      <td>131.335165</td>\n",
       "    </tr>\n",
       "    <tr>\n",
       "      <th>23</th>\n",
       "      <td>87.831044</td>\n",
       "    </tr>\n",
       "  </tbody>\n",
       "</table>\n",
       "</div>"
      ],
      "text/plain": [
       "           cnt\n",
       "hr            \n",
       "0    53.898072\n",
       "1    33.375691\n",
       "2    22.869930\n",
       "3    11.727403\n",
       "4     6.352941\n",
       "5    19.889819\n",
       "6    76.044138\n",
       "7   212.064649\n",
       "8   359.011004\n",
       "9   219.309491\n",
       "10  173.668501\n",
       "11  208.143054\n",
       "12  253.315934\n",
       "13  253.661180\n",
       "14  240.949246\n",
       "15  251.233196\n",
       "16  311.983562\n",
       "17  461.452055\n",
       "18  425.510989\n",
       "19  311.523352\n",
       "20  226.030220\n",
       "21  172.314560\n",
       "22  131.335165\n",
       "23   87.831044"
      ]
     },
     "execution_count": 22,
     "metadata": {},
     "output_type": "execute_result"
    }
   ],
   "source": [
    "df2 = pd.read_csv('hour.csv',   #時間與租借數量的關係\n",
    "         usecols=['hr', 'cnt'])\n",
    "pvt = df2.pivot_table(values='cnt', index='hr')\n",
    "pvt"
   ]
  },
  {
   "cell_type": "code",
   "execution_count": 23,
   "metadata": {},
   "outputs": [],
   "source": [
    "x=df_MinMax\n",
    "y=df1\n",
    "#df.hr.describe()\n"
   ]
  },
  {
   "cell_type": "code",
   "execution_count": 24,
   "metadata": {},
   "outputs": [
    {
     "name": "stdout",
     "output_type": "stream",
     "text": [
      "(12165, 12) (12165,) (5214, 12) (5214,)\n"
     ]
    }
   ],
   "source": [
    "#訓練測試資料分割\n",
    "x_train, x_test, y_train, y_test = train_test_split(x,y,test_size=0.3)\n",
    "print(x_train.shape,y_train.shape, x_test.shape, y_test.shape)"
   ]
  },
  {
   "cell_type": "code",
   "execution_count": 25,
   "metadata": {
    "scrolled": true
   },
   "outputs": [
    {
     "name": "stdout",
     "output_type": "stream",
     "text": [
      "RandomForestRegressor(n_estimators=150, random_state=1)\n",
      "MAE為:25.693\n",
      "RMSE為:44.087\n",
      "MAPE為: 0.303\n"
     ]
    },
    {
     "data": {
      "text/plain": [
       "0.9394267159049906"
      ]
     },
     "execution_count": 25,
     "metadata": {},
     "output_type": "execute_result"
    }
   ],
   "source": [
    "#隨機森林\n",
    "rf=RandomForestRegressor(n_estimators=150,random_state=1)\n",
    "rf.fit(x_train,y_train)\n",
    "y_pred = rf.predict(x_test)\n",
    "print(rf)\n",
    "print('MAE為:%.3f'%(mean_absolute_error(y_test,y_pred)))\n",
    "print('RMSE為:%.3f'%(np.sqrt(mean_squared_error(y_test,y_pred))))\n",
    "print('MAPE為:{: .3f}'.format(mean_absolute_percentage_error(y_test,y_pred)))\n",
    "rf.score(x_test,y_test)"
   ]
  },
  {
   "cell_type": "code",
   "execution_count": 26,
   "metadata": {
    "scrolled": true
   },
   "outputs": [
    {
     "data": {
      "text/plain": [
       "<AxesSubplot:>"
      ]
     },
     "execution_count": 26,
     "metadata": {},
     "output_type": "execute_result"
    },
    {
     "data": {
      "image/png": "[encoded data removed]",
      "text/plain": [
       "<Figure size 800x500 with 1 Axes>"
      ]
     },
     "metadata": {},
     "output_type": "display_data"
    }
   ],
   "source": [
    "#隨機森林importance\n",
    "feature_df = x\n",
    "feature_names = feature_df.columns\n",
    "feature_importance = pd.DataFrame(rf.feature_importances_,index = feature_names)\n",
    "feature_importance.plot(kind='bar')\n"
   ]
  },
  {
   "cell_type": "code",
   "execution_count": 27,
   "metadata": {},
   "outputs": [
    {
     "name": "stdout",
     "output_type": "stream",
     "text": [
      "        yr        hr  workingday      temp\n",
      "12692  1.0  0.043478         1.0  0.530612\n",
      "11140  1.0  0.391304         0.0  0.408163\n",
      "6310   0.0  0.521739         0.0  0.653061\n",
      "12694  1.0  0.130435         1.0  0.510204\n",
      "214    0.0  0.217391         1.0  0.081633\n",
      "...    ...       ...         ...       ...\n",
      "1531   0.0  0.173913         1.0  0.224490\n",
      "6603   0.0  0.739130         1.0  0.591837\n",
      "4236   0.0  0.434783         1.0  0.714286\n",
      "10103  1.0  0.043478         1.0  0.326531\n",
      "1117   0.0  0.304348         0.0  0.367347\n",
      "\n",
      "[5214 rows x 4 columns]\n"
     ]
    }
   ],
   "source": [
    "#隨機森林特徵刪減\n",
    "x_tr_d = x_train.drop(columns=['season','mnth','hoilday','hoilday','weekday','weathersit','atemp','hum','windspeed'])\n",
    "X_train = x_tr_d.values\n",
    "x_te_d = x_test.drop(columns=['season','mnth','hoilday','hoilday','weekday','weathersit','atemp','hum','windspeed'])\n",
    "X_test = x_te_d.values\n",
    "Y_train = y_train.values\n",
    "Y_test = y_test.values\n",
    "print(x_te_d)\n",
    "#print(Y_test)"
   ]
  },
  {
   "cell_type": "code",
   "execution_count": 28,
   "metadata": {},
   "outputs": [
    {
     "name": "stdout",
     "output_type": "stream",
     "text": [
      "MAE為:42.594\n",
      "RMSE為:70.373\n",
      "MAPE為: 0.466\n"
     ]
    },
    {
     "data": {
      "text/plain": [
       "0.8456592884373627"
      ]
     },
     "execution_count": 28,
     "metadata": {},
     "output_type": "execute_result"
    }
   ],
   "source": [
    "#隨機森林特徵刪減後\n",
    "rf=RandomForestRegressor(n_estimators=100,random_state=1)\n",
    "rf.fit(X_train,Y_train)\n",
    "\n",
    "y_pred = rf.predict(X_test)\n",
    "print('MAE為:%.3f'%(mean_absolute_error(Y_test,y_pred)))\n",
    "print('RMSE為:%.3f'%(np.sqrt(mean_squared_error(Y_test,y_pred))))\n",
    "print('MAPE為:{: .3f}'.format(mean_absolute_percentage_error(y_test,y_pred)))\n",
    "rf.score(X_test,Y_test)"
   ]
  },
  {
   "cell_type": "code",
   "execution_count": 29,
   "metadata": {},
   "outputs": [
    {
     "name": "stdout",
     "output_type": "stream",
     "text": [
      "n_neighbor值為 2 的時候score為:0.683\n",
      "n_neighbor值為 3 的時候score為:0.689\n",
      "n_neighbor值為 4 的時候score為:0.692\n",
      "n_neighbor值為 5 的時候score為:0.692\n",
      "n_neighbor值為 6 的時候score為:0.696\n",
      "n_neighbor值為 7 的時候score為:0.694\n",
      "n_neighbor值為 8 的時候score為:0.693\n",
      "n_neighbor值為 9 的時候score為:0.692\n",
      "n_neighbor值為 10 的時候score為:0.687\n",
      "n_neighbor值為 11 的時候score為:0.684\n",
      "n_neighbor值為 12 的時候score為:0.682\n",
      "n_neighbor值為 13 的時候score為:0.678\n",
      "n_neighbor值為 14 的時候score為:0.676\n",
      "n_neighbor值為 15 的時候score為:0.673\n",
      "n_neighbor值為 16 的時候score為:0.671\n",
      "n_neighbor值為 17 的時候score為:0.667\n",
      "n_neighbor值為 18 的時候score為:0.663\n",
      "n_neighbor值為 19 的時候score為:0.660\n",
      "n_neighbor值為 20 的時候score為:0.658\n",
      "n_neighbor值為 21 的時候score為:0.654\n",
      "n_neighbor值為 22 的時候score為:0.651\n",
      "n_neighbor值為 23 的時候score為:0.649\n",
      "n_neighbor值為 24 的時候score為:0.647\n",
      "n_neighbor值為 25 的時候score為:0.645\n",
      "n_neighbor值為 26 的時候score為:0.641\n",
      "n_neighbor值為 27 的時候score為:0.638\n",
      "n_neighbor值為 28 的時候score為:0.636\n",
      "n_neighbor值為 29 的時候score為:0.633\n",
      "n_neighbor值為 30 的時候score為:0.631\n"
     ]
    }
   ],
   "source": [
    "#KNN計算最佳n_neighbor值\n",
    "n=1\n",
    "k_value_range = range(1,30)\n",
    "k_value_scores = []\n",
    "for k in k_value_range:\n",
    "    n=n+1\n",
    "    kng = KNeighborsRegressor(n_neighbors=n)\n",
    "    kng.fit(x_train,y_train)\n",
    "    y_pred = kng.predict(x_test)\n",
    "    score=kng.score(x_test,y_test)\n",
    "    print('n_neighbor值為',n,'的時候score為:%.3f'%(score))   \n",
    "    k_value_scores.append(score)"
   ]
  },
  {
   "cell_type": "code",
   "execution_count": 30,
   "metadata": {},
   "outputs": [
    {
     "data": {
      "image/png": "[encoded data removed]",
      "text/plain": [
       "<Figure size 800x500 with 1 Axes>"
      ]
     },
     "metadata": {},
     "output_type": "display_data"
    }
   ],
   "source": [
    "#最佳k值\n",
    "plt.plot(k_value_range,k_value_scores, marker = 'o')\n",
    "plt.title(\"Best k\")\n",
    "plt.xlabel(\"K_socre\")\n",
    "plt.ylabel(\"n_neighbor\")\n",
    "plt.show()"
   ]
  },
  {
   "cell_type": "code",
   "execution_count": 31,
   "metadata": {},
   "outputs": [
    {
     "name": "stdout",
     "output_type": "stream",
     "text": [
      "MAE為:65.515\n",
      "RMSE為:99.467\n",
      "MAPE為: 1.414\n",
      "0.6916658931784985\n"
     ]
    }
   ],
   "source": [
    "#KNN n_neighbor=5時的結果\n",
    "kng = KNeighborsRegressor(n_neighbors=5)\n",
    "kng.fit(x_train,y_train)\n",
    "y_pred = kng.predict(x_test)\n",
    "score=kng.score(x_test,y_test)\n",
    "MAPE = metrics.mean_absolute_percentage_error(y_test,y_pred) * 100\n",
    "print('MAE為:%.3f'%(mean_absolute_error(y_test,y_pred)))\n",
    "print('RMSE為:%.3f'%(np.sqrt(mean_squared_error(y_test,y_pred))))\n",
    "print('MAPE為:{: .3f}'.format(mean_absolute_percentage_error(y_test,y_pred)))\n",
    "print(score)"
   ]
  },
  {
   "cell_type": "code",
   "execution_count": 32,
   "metadata": {},
   "outputs": [
    {
     "data": {
      "image/png": "[encoded data removed]",
      "text/plain": [
       "<Figure size 800x500 with 1 Axes>"
      ]
     },
     "metadata": {},
     "output_type": "display_data"
    }
   ],
   "source": [
    "#線性回歸特徵權重計算\n",
    "features = ['season','yr','mnth','hr','hoilday','weekday','workingday','weathersit','temp','atemp','hum','windspeed']\n",
    "reg=LassoCV()\n",
    "reg.fit(x_train,y_train)\n",
    "coef=pd.Series(reg.coef_,index=features)\n",
    "chinese = FontProperties(fname='C:\\Windows\\Fonts\\kaiu.ttf')\n",
    "imp_coef = pd.concat([coef.sort_values().head(5), coef.sort_values().tail(6)])\n",
    "plt.rcParams['figure.figsize'] = (8,5)\n",
    "imp_coef.plot(kind = \"barh\")\n",
    "plt.title(\"線性迴歸下權重可視圖\", fontproperties=chinese, size=14)\n",
    "plt.show()"
   ]
  },
  {
   "cell_type": "code",
   "execution_count": 33,
   "metadata": {},
   "outputs": [],
   "source": [
    "#KNN特徵刪減\n",
    "x_tr_d = x_train.drop(columns=['hum','hoilday','weathersit','mnth','workingday','windspeed','season'])\n",
    "X_train = x_tr_d.values\n",
    "x_te_d = x_test.drop(columns=['hum','hoilday','weathersit','mnth','workingday','windspeed','season'])\n",
    "X_test = x_te_d.values\n",
    "Y_train = y_train.values\n",
    "Y_test = y_test.values\n",
    "#print(x_te_d)\n",
    "#print(Y_test)"
   ]
  },
  {
   "cell_type": "code",
   "execution_count": 34,
   "metadata": {},
   "outputs": [
    {
     "name": "stdout",
     "output_type": "stream",
     "text": [
      "MAE為:44.363\n",
      "RMSE為:72.346\n",
      "MAPE為: 0.503\n",
      "0.8368841194654022\n"
     ]
    }
   ],
   "source": [
    "#KNN特徵刪減後\n",
    "kng = KNeighborsRegressor(n_neighbors=5)\n",
    "kng.fit(X_train,Y_train)\n",
    "y_pred = kng.predict(X_test)\n",
    "score=kng.score(X_test,Y_test)\n",
    "print('MAE為:%.3f'%(mean_absolute_error(Y_test,y_pred)))\n",
    "print('RMSE為:%.3f'%(np.sqrt(mean_squared_error(Y_test,y_pred))))\n",
    "print('MAPE為:{: .3f}'.format(mean_absolute_percentage_error(y_test,y_pred)))\n",
    "print(score)"
   ]
  },
  {
   "cell_type": "code",
   "execution_count": 35,
   "metadata": {},
   "outputs": [
    {
     "name": "stdout",
     "output_type": "stream",
     "text": [
      "MAE為:25.811\n",
      "RMSE為:41.371\n",
      "MAPE為: 0.411\n"
     ]
    },
    {
     "data": {
      "text/plain": [
       "0.9466588152135879"
      ]
     },
     "execution_count": 35,
     "metadata": {},
     "output_type": "execute_result"
    }
   ],
   "source": [
    "#XGBOOST\n",
    "import xgboost as xgb\n",
    "xg=xgb.XGBRegressor(n_estimators=100)\n",
    "xg.fit(x_train,y_train)\n",
    "y_pred = xg.predict(x_test)\n",
    "print('MAE為:%.3f'%(mean_absolute_error(y_test,y_pred)))\n",
    "print('RMSE為:%.3f'%(np.sqrt(mean_squared_error(y_test,y_pred))))\n",
    "print('MAPE為:{: .3f}'.format(mean_absolute_percentage_error(y_test,y_pred)))\n",
    "xg.score(x_test,y_test)"
   ]
  },
  {
   "cell_type": "code",
   "execution_count": 36,
   "metadata": {},
   "outputs": [
    {
     "data": {
      "text/plain": [
       "<AxesSubplot:>"
      ]
     },
     "execution_count": 36,
     "metadata": {},
     "output_type": "execute_result"
    },
    {
     "data": {
      "image/png": "[encoded data removed]",
      "text/plain": [
       "<Figure size 800x500 with 1 Axes>"
      ]
     },
     "metadata": {},
     "output_type": "display_data"
    }
   ],
   "source": [
    "#XGBOOST特徵importance\n",
    "feature_importance = pd.DataFrame(xg.feature_importances_,index = feature_names)\n",
    "feature_importance.plot(kind='bar')"
   ]
  },
  {
   "cell_type": "code",
   "execution_count": 37,
   "metadata": {},
   "outputs": [],
   "source": [
    "#XGBOOST特徵刪減\n",
    "x_tr_d = x_train.drop(columns=['mnth','hoilday','weekday','hum','windspeed'])\n",
    "X_train = x_tr_d.values\n",
    "x_te_d = x_test.drop(columns=['mnth','hoilday','weekday','hum','windspeed'])\n",
    "X_test = x_te_d.values\n",
    "Y_train = y_train.values\n",
    "Y_test = y_test.values\n",
    "#print(x_te_d)\n",
    "#print(Y_test)"
   ]
  },
  {
   "cell_type": "code",
   "execution_count": 38,
   "metadata": {},
   "outputs": [
    {
     "name": "stdout",
     "output_type": "stream",
     "text": [
      "MAE為:30.441\n",
      "RMSE為:50.216\n",
      "MAPE為: 0.382\n"
     ]
    },
    {
     "data": {
      "text/plain": [
       "0.9214129019123488"
      ]
     },
     "execution_count": 38,
     "metadata": {},
     "output_type": "execute_result"
    }
   ],
   "source": [
    "#XGBOOST特徵刪減後\n",
    "import xgboost as xgb\n",
    "xg=xgb.XGBRegressor(n_estimators=150)\n",
    "xg.fit(X_train,Y_train)\n",
    "y_pred = xg.predict(X_test)\n",
    "print('MAE為:%.3f'%(mean_absolute_error(Y_test,y_pred)))\n",
    "print('RMSE為:%.3f'%(np.sqrt(mean_squared_error(Y_test,y_pred))))\n",
    "print('MAPE為:{: .3f}'.format(mean_absolute_percentage_error(y_test,y_pred)))\n",
    "xg.score(X_test,Y_test)"
   ]
  }
 ],
 "metadata": {
  "kernelspec": {
   "display_name": "Python 3 (ipykernel)",
   "language": "python",
   "name": "python3"
  },
  "language_info": {
   "codemirror_mode": {
    "name": "ipython",
    "version": 3
   },
   "file_extension": ".py",
   "mimetype": "text/x-python",
   "name": "python",
   "nbconvert_exporter": "python",
   "pygments_lexer": "ipython3",
   "version": "3.10.6"
  }
 },
 "nbformat": 4,
 "nbformat_minor": 4
}
